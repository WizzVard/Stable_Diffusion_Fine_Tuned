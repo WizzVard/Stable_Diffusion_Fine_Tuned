{
 "cells": [
  {
   "cell_type": "code",
   "execution_count": 1,
   "id": "95784bf7-6827-466f-a3d0-9e41a90db87d",
   "metadata": {
    "id": "95784bf7-6827-466f-a3d0-9e41a90db87d",
    "outputId": "56d6558d-d9be-4207-818d-67bf12cbd32d"
   },
   "outputs": [
    {
     "name": "stdout",
     "output_type": "stream",
     "text": [
      "Requirement already satisfied: diffusers in /usr/local/lib/python3.10/dist-packages (0.30.0)\n",
      "Requirement already satisfied: importlib-metadata in /usr/lib/python3/dist-packages (from diffusers) (4.6.4)\n",
      "Requirement already satisfied: filelock in /usr/local/lib/python3.10/dist-packages (from diffusers) (3.9.0)\n",
      "Requirement already satisfied: huggingface-hub>=0.23.2 in /usr/local/lib/python3.10/dist-packages (from diffusers) (0.24.5)\n",
      "Requirement already satisfied: numpy in /usr/local/lib/python3.10/dist-packages (from diffusers) (1.24.1)\n",
      "Requirement already satisfied: regex!=2019.12.17 in /usr/local/lib/python3.10/dist-packages (from diffusers) (2024.7.24)\n",
      "Requirement already satisfied: requests in /usr/local/lib/python3.10/dist-packages (from diffusers) (2.31.0)\n",
      "Requirement already satisfied: safetensors>=0.3.1 in /usr/local/lib/python3.10/dist-packages (from diffusers) (0.4.4)\n",
      "Requirement already satisfied: Pillow in /usr/local/lib/python3.10/dist-packages (from diffusers) (9.3.0)\n",
      "Requirement already satisfied: fsspec>=2023.5.0 in /usr/local/lib/python3.10/dist-packages (from huggingface-hub>=0.23.2->diffusers) (2024.6.1)\n",
      "Requirement already satisfied: packaging>=20.9 in /usr/local/lib/python3.10/dist-packages (from huggingface-hub>=0.23.2->diffusers) (23.2)\n",
      "Requirement already satisfied: pyyaml>=5.1 in /usr/local/lib/python3.10/dist-packages (from huggingface-hub>=0.23.2->diffusers) (6.0.1)\n",
      "Requirement already satisfied: tqdm>=4.42.1 in /usr/local/lib/python3.10/dist-packages (from huggingface-hub>=0.23.2->diffusers) (4.66.5)\n",
      "Requirement already satisfied: typing-extensions>=3.7.4.3 in /usr/local/lib/python3.10/dist-packages (from huggingface-hub>=0.23.2->diffusers) (4.12.2)\n",
      "Requirement already satisfied: charset-normalizer<4,>=2 in /usr/local/lib/python3.10/dist-packages (from requests->diffusers) (2.1.1)\n",
      "Requirement already satisfied: idna<4,>=2.5 in /usr/local/lib/python3.10/dist-packages (from requests->diffusers) (3.4)\n",
      "Requirement already satisfied: urllib3<3,>=1.21.1 in /usr/local/lib/python3.10/dist-packages (from requests->diffusers) (1.26.13)\n",
      "Requirement already satisfied: certifi>=2017.4.17 in /usr/local/lib/python3.10/dist-packages (from requests->diffusers) (2022.12.7)\n",
      "\u001b[33mWARNING: Running pip as the 'root' user can result in broken permissions and conflicting behaviour with the system package manager. It is recommended to use a virtual environment instead: https://pip.pypa.io/warnings/venv\u001b[0m\u001b[33m\n",
      "\u001b[0m\n",
      "\u001b[1m[\u001b[0m\u001b[34;49mnotice\u001b[0m\u001b[1;39;49m]\u001b[0m\u001b[39;49m A new release of pip is available: \u001b[0m\u001b[31;49m23.3.1\u001b[0m\u001b[39;49m -> \u001b[0m\u001b[32;49m24.2\u001b[0m\n",
      "\u001b[1m[\u001b[0m\u001b[34;49mnotice\u001b[0m\u001b[1;39;49m]\u001b[0m\u001b[39;49m To update, run: \u001b[0m\u001b[32;49mpython -m pip install --upgrade pip\u001b[0m\n",
      "Requirement already satisfied: peft in /usr/local/lib/python3.10/dist-packages (0.12.0)\n",
      "Requirement already satisfied: numpy>=1.17 in /usr/local/lib/python3.10/dist-packages (from peft) (1.24.1)\n",
      "Requirement already satisfied: packaging>=20.0 in /usr/local/lib/python3.10/dist-packages (from peft) (23.2)\n",
      "Requirement already satisfied: psutil in /usr/local/lib/python3.10/dist-packages (from peft) (5.9.6)\n",
      "Requirement already satisfied: pyyaml in /usr/local/lib/python3.10/dist-packages (from peft) (6.0.1)\n",
      "Requirement already satisfied: torch>=1.13.0 in /usr/local/lib/python3.10/dist-packages (from peft) (2.1.0+cu118)\n",
      "Requirement already satisfied: transformers in /usr/local/lib/python3.10/dist-packages (from peft) (4.44.0)\n",
      "Requirement already satisfied: tqdm in /usr/local/lib/python3.10/dist-packages (from peft) (4.66.5)\n",
      "Requirement already satisfied: accelerate>=0.21.0 in /usr/local/lib/python3.10/dist-packages (from peft) (0.33.0)\n",
      "Requirement already satisfied: safetensors in /usr/local/lib/python3.10/dist-packages (from peft) (0.4.4)\n",
      "Requirement already satisfied: huggingface-hub>=0.17.0 in /usr/local/lib/python3.10/dist-packages (from peft) (0.24.5)\n",
      "Requirement already satisfied: filelock in /usr/local/lib/python3.10/dist-packages (from huggingface-hub>=0.17.0->peft) (3.9.0)\n",
      "Requirement already satisfied: fsspec>=2023.5.0 in /usr/local/lib/python3.10/dist-packages (from huggingface-hub>=0.17.0->peft) (2024.6.1)\n",
      "Requirement already satisfied: requests in /usr/local/lib/python3.10/dist-packages (from huggingface-hub>=0.17.0->peft) (2.31.0)\n",
      "Requirement already satisfied: typing-extensions>=3.7.4.3 in /usr/local/lib/python3.10/dist-packages (from huggingface-hub>=0.17.0->peft) (4.12.2)\n",
      "Requirement already satisfied: sympy in /usr/local/lib/python3.10/dist-packages (from torch>=1.13.0->peft) (1.12)\n",
      "Requirement already satisfied: networkx in /usr/local/lib/python3.10/dist-packages (from torch>=1.13.0->peft) (3.0)\n",
      "Requirement already satisfied: jinja2 in /usr/local/lib/python3.10/dist-packages (from torch>=1.13.0->peft) (3.1.2)\n",
      "Requirement already satisfied: triton==2.1.0 in /usr/local/lib/python3.10/dist-packages (from torch>=1.13.0->peft) (2.1.0)\n",
      "Requirement already satisfied: regex!=2019.12.17 in /usr/local/lib/python3.10/dist-packages (from transformers->peft) (2024.7.24)\n",
      "Requirement already satisfied: tokenizers<0.20,>=0.19 in /usr/local/lib/python3.10/dist-packages (from transformers->peft) (0.19.1)\n",
      "Requirement already satisfied: MarkupSafe>=2.0 in /usr/local/lib/python3.10/dist-packages (from jinja2->torch>=1.13.0->peft) (2.1.2)\n",
      "Requirement already satisfied: charset-normalizer<4,>=2 in /usr/local/lib/python3.10/dist-packages (from requests->huggingface-hub>=0.17.0->peft) (2.1.1)\n",
      "Requirement already satisfied: idna<4,>=2.5 in /usr/local/lib/python3.10/dist-packages (from requests->huggingface-hub>=0.17.0->peft) (3.4)\n",
      "Requirement already satisfied: urllib3<3,>=1.21.1 in /usr/local/lib/python3.10/dist-packages (from requests->huggingface-hub>=0.17.0->peft) (1.26.13)\n",
      "Requirement already satisfied: certifi>=2017.4.17 in /usr/local/lib/python3.10/dist-packages (from requests->huggingface-hub>=0.17.0->peft) (2022.12.7)\n",
      "Requirement already satisfied: mpmath>=0.19 in /usr/local/lib/python3.10/dist-packages (from sympy->torch>=1.13.0->peft) (1.3.0)\n",
      "\u001b[33mWARNING: Running pip as the 'root' user can result in broken permissions and conflicting behaviour with the system package manager. It is recommended to use a virtual environment instead: https://pip.pypa.io/warnings/venv\u001b[0m\u001b[33m\n",
      "\u001b[0m\n",
      "\u001b[1m[\u001b[0m\u001b[34;49mnotice\u001b[0m\u001b[1;39;49m]\u001b[0m\u001b[39;49m A new release of pip is available: \u001b[0m\u001b[31;49m23.3.1\u001b[0m\u001b[39;49m -> \u001b[0m\u001b[32;49m24.2\u001b[0m\n",
      "\u001b[1m[\u001b[0m\u001b[34;49mnotice\u001b[0m\u001b[1;39;49m]\u001b[0m\u001b[39;49m To update, run: \u001b[0m\u001b[32;49mpython -m pip install --upgrade pip\u001b[0m\n",
      "Requirement already satisfied: fastapi in /usr/local/lib/python3.10/dist-packages (0.112.1)\n",
      "Requirement already satisfied: uvicorn in /usr/local/lib/python3.10/dist-packages (0.30.6)\n",
      "Requirement already satisfied: pyngrok in /usr/local/lib/python3.10/dist-packages (7.2.0)\n",
      "Requirement already satisfied: starlette<0.39.0,>=0.37.2 in /usr/local/lib/python3.10/dist-packages (from fastapi) (0.38.2)\n",
      "Requirement already satisfied: pydantic!=1.8,!=1.8.1,!=2.0.0,!=2.0.1,!=2.1.0,<3.0.0,>=1.7.4 in /usr/local/lib/python3.10/dist-packages (from fastapi) (2.8.2)\n",
      "Requirement already satisfied: typing-extensions>=4.8.0 in /usr/local/lib/python3.10/dist-packages (from fastapi) (4.12.2)\n",
      "Requirement already satisfied: click>=7.0 in /usr/local/lib/python3.10/dist-packages (from uvicorn) (8.1.7)\n",
      "Requirement already satisfied: h11>=0.8 in /usr/local/lib/python3.10/dist-packages (from uvicorn) (0.14.0)\n",
      "Requirement already satisfied: PyYAML>=5.1 in /usr/local/lib/python3.10/dist-packages (from pyngrok) (6.0.1)\n",
      "Requirement already satisfied: annotated-types>=0.4.0 in /usr/local/lib/python3.10/dist-packages (from pydantic!=1.8,!=1.8.1,!=2.0.0,!=2.0.1,!=2.1.0,<3.0.0,>=1.7.4->fastapi) (0.7.0)\n",
      "Requirement already satisfied: pydantic-core==2.20.1 in /usr/local/lib/python3.10/dist-packages (from pydantic!=1.8,!=1.8.1,!=2.0.0,!=2.0.1,!=2.1.0,<3.0.0,>=1.7.4->fastapi) (2.20.1)\n",
      "Requirement already satisfied: anyio<5,>=3.4.0 in /usr/local/lib/python3.10/dist-packages (from starlette<0.39.0,>=0.37.2->fastapi) (4.0.0)\n",
      "Requirement already satisfied: idna>=2.8 in /usr/local/lib/python3.10/dist-packages (from anyio<5,>=3.4.0->starlette<0.39.0,>=0.37.2->fastapi) (3.4)\n",
      "Requirement already satisfied: sniffio>=1.1 in /usr/local/lib/python3.10/dist-packages (from anyio<5,>=3.4.0->starlette<0.39.0,>=0.37.2->fastapi) (1.3.0)\n",
      "Requirement already satisfied: exceptiongroup>=1.0.2 in /usr/local/lib/python3.10/dist-packages (from anyio<5,>=3.4.0->starlette<0.39.0,>=0.37.2->fastapi) (1.1.3)\n",
      "\u001b[33mWARNING: Running pip as the 'root' user can result in broken permissions and conflicting behaviour with the system package manager. It is recommended to use a virtual environment instead: https://pip.pypa.io/warnings/venv\u001b[0m\u001b[33m\n",
      "\u001b[0m\n",
      "\u001b[1m[\u001b[0m\u001b[34;49mnotice\u001b[0m\u001b[1;39;49m]\u001b[0m\u001b[39;49m A new release of pip is available: \u001b[0m\u001b[31;49m23.3.1\u001b[0m\u001b[39;49m -> \u001b[0m\u001b[32;49m24.2\u001b[0m\n",
      "\u001b[1m[\u001b[0m\u001b[34;49mnotice\u001b[0m\u001b[1;39;49m]\u001b[0m\u001b[39;49m To update, run: \u001b[0m\u001b[32;49mpython -m pip install --upgrade pip\u001b[0m\n"
     ]
    }
   ],
   "source": [
    "!pip install diffusers\n",
    "!pip install -U peft\n",
    "!pip install fastapi uvicorn pyngrok"
   ]
  },
  {
   "cell_type": "markdown",
   "id": "Sa1MCon_MhwJ",
   "metadata": {
    "id": "Sa1MCon_MhwJ"
   },
   "source": [
    "Load Ngrok Token"
   ]
  },
  {
   "cell_type": "code",
   "execution_count": 13,
   "id": "7e612f4f-ff0f-4336-9a85-4149d7f4abc3",
   "metadata": {
    "id": "7e612f4f-ff0f-4336-9a85-4149d7f4abc3",
    "outputId": "411beb63-6371-4759-a47d-b2ebdd16bee6"
   },
   "outputs": [
    {
     "name": "stdout",
     "output_type": "stream",
     "text": [
      "Authtoken saved to configuration file: /root/.config/ngrok/ngrok.yml\n"
     ]
    }
   ],
   "source": [
    "!ngrok authtoken YOUR_NGROK_TOKEN"
   ]
  },
  {
   "cell_type": "markdown",
   "id": "l96JzLU1MlHi",
   "metadata": {
    "id": "l96JzLU1MlHi"
   },
   "source": [
    "Load 4 Models for Async Inference"
   ]
  },
  {
   "cell_type": "code",
   "execution_count": 3,
   "id": "e8ebdc61-7eb6-4307-9556-9ca8ee7135d2",
   "metadata": {
    "colab": {
     "referenced_widgets": [
      "56491a11416f4b4994a445f342ca8c0a",
      "6891dd8c1cbe441bbb0fd41b1a5000b4",
      "7cac4b5483604ec9bc1adff597cc6e65",
      "3aab077645674e0c9cfa7114cdaccd2b",
      "b83443e8392a45de8dbd845ea43e77c4",
      "19fc09672c9c4f57ad12035594100ba3",
      "c1e948a851544baa81cbb1079d890789",
      "91d3826bb0864e59a93ae882950788d7",
      "947f26891ba74a85aebab89e80dfadea",
      "820b5be15d36460bbd62cae0e43360a8",
      "16559b7f9fef4a2780020a4e4fec2f16",
      "b9dbdd1215c540bb88d7783ae3791b32",
      "e4b1ac071734437c80a02894255ec813",
      "ef2d18a50b544315926d5182fc84e410",
      "72274b7f46e140848bb6ace9ba156a3d",
      "b2b0b4c0559e4b5bb726aa7278b9067c",
      "b838e3a7cf7c44bb898fb0e7fffe6c3f",
      "d57b28e2fc8b4f2bac2764f5738bd073",
      "46249e8ea3144c358b428b1e11f4247a",
      "94630e9ddb0f40899bb96e5b3d95385f",
      "df6f8e5179234209910693a1434a0b7f",
      "66e3007dc349414897528f1809ba9323",
      "56a08c566de24bf09acf2926728b4416",
      "bfa60de822374f73b70ad84aa39c5714"
     ]
    },
    "id": "e8ebdc61-7eb6-4307-9556-9ca8ee7135d2",
    "outputId": "35a41e4d-076a-4427-e3b0-0bb527dc0213"
   },
   "outputs": [
    {
     "data": {
      "application/vnd.jupyter.widget-view+json": {
       "model_id": "41f17116475149f18796388c44047c3d",
       "version_major": 2,
       "version_minor": 0
      },
      "text/plain": [
       "Loading pipeline components...:   0%|          | 0/7 [00:00<?, ?it/s]"
      ]
     },
     "metadata": {},
     "output_type": "display_data"
    },
    {
     "data": {
      "application/vnd.jupyter.widget-view+json": {
       "model_id": "37926b0871a54892bd572458ac66a2c0",
       "version_major": 2,
       "version_minor": 0
      },
      "text/plain": [
       "Loading pipeline components...:   0%|          | 0/7 [00:00<?, ?it/s]"
      ]
     },
     "metadata": {},
     "output_type": "display_data"
    },
    {
     "data": {
      "application/vnd.jupyter.widget-view+json": {
       "model_id": "5e0c184c92254be28f5638bd39ca3b35",
       "version_major": 2,
       "version_minor": 0
      },
      "text/plain": [
       "Loading pipeline components...:   0%|          | 0/7 [00:00<?, ?it/s]"
      ]
     },
     "metadata": {},
     "output_type": "display_data"
    },
    {
     "data": {
      "application/vnd.jupyter.widget-view+json": {
       "model_id": "7e57e30ad715410f9cd51ec78ba5e203",
       "version_major": 2,
       "version_minor": 0
      },
      "text/plain": [
       "Loading pipeline components...:   0%|          | 0/7 [00:00<?, ?it/s]"
      ]
     },
     "metadata": {},
     "output_type": "display_data"
    }
   ],
   "source": [
    "import time\n",
    "import torch\n",
    "from diffusers import DiffusionPipeline\n",
    "from huggingface_hub import hf_hub_download\n",
    "\n",
    "def load_stable_diffusion(model_id: str, lora_weights: str):\n",
    "    \"\"\"\n",
    "    Load the Stable Diffusion model with specified LoRA weights.\n",
    "\n",
    "    :param model_id: The ID of the model to load.\n",
    "    :param lora_weights: The path or name of the LoRA weights to load.\n",
    "    :return: DiffusionPipeline: The loaded model pipeline.\n",
    "    \"\"\"\n",
    "    pipe = DiffusionPipeline.from_pretrained(model_id, torch_dtype=torch.float16)\n",
    "    pipe = pipe.to(\"cuda\")\n",
    "\n",
    "    # Optional CPU offloading to save some GPU Memory\n",
    "    pipe.enable_model_cpu_offload()\n",
    "\n",
    "    # Loading Trained LoRA Weights\n",
    "    pipe.load_lora_weights(lora_weights)\n",
    "\n",
    "    return pipe\n",
    "\n",
    "def load_multiple_pipelines(model_id: str, lora_weights: str, count: int):\n",
    "    \"\"\"\n",
    "    Load multiple Stable Diffusion pipelines.\n",
    "\n",
    "    :param model_id: The ID of the model to load.\n",
    "    :param lora_weights: The path or name of the LoRA weights to load.\n",
    "    :param count: The number of pipelines to load.\n",
    "    :return: list: A list of loaded pipelines.\n",
    "    \"\"\"\n",
    "    return [load_stable_diffusion(model_id, lora_weights) for _ in range(count)]\n",
    "\n",
    "# Load multiple pipelines for stability model\n",
    "stability_pipes = load_multiple_pipelines(\"stabilityai/stable-diffusion-xl-base-1.0\", \"WizzVard22/sdxl-lora-testing\", 4)\n",
    "\n",
    "# Unpack pipelines\n",
    "stability_pipe1, stability_pipe2, stability_pipe3, stability_pipe4 = stability_pipes"
   ]
  },
  {
   "cell_type": "markdown",
   "id": "9hRHGQyoMuOI",
   "metadata": {
    "id": "9hRHGQyoMuOI"
   },
   "source": [
    "Create a path to localy save generated images"
   ]
  },
  {
   "cell_type": "code",
   "execution_count": 4,
   "id": "41116c09-fce9-4a80-a950-11f248b3a3b9",
   "metadata": {
    "id": "41116c09-fce9-4a80-a950-11f248b3a3b9"
   },
   "outputs": [],
   "source": [
    "import os\n",
    "\n",
    "directory = 'data/generated_images/'\n",
    "os.makedirs(os.path.dirname(directory), exist_ok=True)"
   ]
  },
  {
   "cell_type": "markdown",
   "id": "wKwZqkhvMzER",
   "metadata": {
    "id": "wKwZqkhvMzER"
   },
   "source": [
    "Create a FastAPI instance"
   ]
  },
  {
   "cell_type": "code",
   "execution_count": 5,
   "id": "d684a33c-3ac4-494d-b04c-27121795eca0",
   "metadata": {
    "id": "d684a33c-3ac4-494d-b04c-27121795eca0"
   },
   "outputs": [],
   "source": [
    "from fastapi import FastAPI, Request\n",
    "from fastapi.staticfiles import StaticFiles\n",
    "from fastapi.middleware.cors import CORSMiddleware\n",
    "from fastapi.responses import FileResponse, JSONResponse\n",
    "\n",
    "app = FastAPI()\n",
    "\n",
    "app.add_middleware(\n",
    "    CORSMiddleware,\n",
    "    allow_origins=['*'],\n",
    "    allow_credentials=True,\n",
    "    allow_methods=['*'],\n",
    "    allow_headers=['*'],\n",
    ")\n",
    "\n",
    "# Mount the directory to serve static files\n",
    "app.mount(\"/data\", StaticFiles(directory=\"data\"), name=\"data\")"
   ]
  },
  {
   "cell_type": "markdown",
   "id": "oZZtq5UFN17A",
   "metadata": {
    "id": "oZZtq5UFN17A"
   },
   "source": [
    "Import Statements"
   ]
  },
  {
   "cell_type": "code",
   "execution_count": 6,
   "id": "Gqz3egZQN1Kw",
   "metadata": {
    "id": "Gqz3egZQN1Kw"
   },
   "outputs": [],
   "source": [
    "import nest_asyncio\n",
    "import asyncio\n",
    "import uvicorn\n",
    "from pyngrok import ngrok\n",
    "from concurrent.futures import ProcessPoolExecutor\n",
    "from random import randint\n",
    "import torch"
   ]
  },
  {
   "cell_type": "markdown",
   "id": "1-F0YGIMN-wf",
   "metadata": {
    "id": "1-F0YGIMN-wf"
   },
   "source": [
    "Derectory Setup and Port Configuration"
   ]
  },
  {
   "cell_type": "code",
   "execution_count": 7,
   "id": "ioYeB28lN-Rg",
   "metadata": {
    "id": "ioYeB28lN-Rg"
   },
   "outputs": [],
   "source": [
    "directory = 'data/generated_images/'\n",
    "os.makedirs(os.path.dirname(directory), exist_ok=True)\n",
    "ngrok_port = 8000"
   ]
  },
  {
   "cell_type": "markdown",
   "id": "Alip8GbiOD_v",
   "metadata": {
    "id": "Alip8GbiOD_v"
   },
   "source": [
    "Image Generation Function"
   ]
  },
  {
   "cell_type": "code",
   "execution_count": 8,
   "id": "reUSoh44OFf3",
   "metadata": {
    "id": "reUSoh44OFf3"
   },
   "outputs": [],
   "source": [
    "def generate_image_sync(prompt, pipe):\n",
    "    \"\"\"\n",
    "    Generate an image using the Stable Diffusion model based on the given prompt.\n",
    "\n",
    "    :param prompt: The prompt for image generation.\n",
    "    :param model_name: The model name to load and use for image generation.\n",
    "\n",
    "    :return: Path to the generated image.\n",
    "    \"\"\"\n",
    "    try:\n",
    "        image_dir = f\"data/generated_images/{randint(1, 100000)}.png\"\n",
    "        # Generate the image\n",
    "        pipe(prompt, num_inference_steps=25).images[0].save(f\"{image_dir}\")\n",
    "        torch.cuda.empty_cache()\n",
    "        return image_dir\n",
    "    except Exception as e:\n",
    "        raise"
   ]
  },
  {
   "cell_type": "markdown",
   "id": "Nk3QAEDZOH4Q",
   "metadata": {
    "id": "Nk3QAEDZOH4Q"
   },
   "source": [
    "FastAPI Routes"
   ]
  },
  {
   "cell_type": "code",
   "execution_count": 10,
   "id": "np8BZ-UKONEw",
   "metadata": {
    "id": "np8BZ-UKONEw"
   },
   "outputs": [],
   "source": [
    "@app.get(\"/\")\n",
    "async def home():\n",
    "    return {\"message\": \"Hello, this is a test API\"}\n",
    "\n",
    "@app.post(\"/generate_image\")\n",
    "async def generate_image(request: Request):\n",
    "    \"\"\"\n",
    "    Generate an image using the Stable Diffusion model based on the given prompt.\n",
    "\n",
    "    :return: The image is sent directly as a binary file using FastAPI's FileResponse.\n",
    "    \"\"\"\n",
    "    try:\n",
    "        data = await request.json()\n",
    "        prompt = data.get(\"prompt\", \"\")\n",
    "        model = data.get(\"model\", \"\")\n",
    "\n",
    "        pipes = [stability_pipe1, stability_pipe2, stability_pipe3, stability_pipe4]\n",
    "        \n",
    "        loop = asyncio.get_event_loop()\n",
    "        tasks = [loop.run_in_executor(None, generate_image_sync, prompt, pipe) for pipe in pipes]\n",
    "        image_paths = await asyncio.gather(*tasks)\n",
    "        print(f\"Image paths: {image_paths}\")\n",
    "        \n",
    "        response = {\"images\": image_paths}\n",
    "\n",
    "        print(f\"Response saved with {len(image_paths)} images.\")\n",
    "        return JSONResponse(content=response)\n",
    "    except Exception as e:\n",
    "        print(f\"Error during image generation: {e}\")\n",
    "        return JSONResponse(status_code=500, content={\"error\": \"Internal Server Error\"})"
   ]
  },
  {
   "cell_type": "markdown",
   "id": "4zjaSn1jOOeY",
   "metadata": {
    "id": "4zjaSn1jOOeY"
   },
   "source": [
    "Running the App with Ngrok"
   ]
  },
  {
   "cell_type": "code",
   "execution_count": null,
   "id": "a602b505-7a61-47ea-bb3e-dae8a6cdd425",
   "metadata": {
    "colab": {
     "referenced_widgets": [
      "92f6c6861de84a0b85922fdd268eb0e9",
      "462adfb0c277488f8dd9cc3d3dafee75",
      "bfb193ee8b344ad1a9a0810adb8afbd9",
      "d6005a9f686141ac8f0936055a752b79",
      "95e7760752b14faf8d723b6639bd389f",
      "09a258a760d14dca81e1da1ea8a41023",
      "140e2484b21d40a89cd9b4c04886fcd7",
      "adae93c218b34c548a0d66b84a17e70a",
      "a3363ec18a7e4bc59f9a9f22fded6040",
      "fee3f46e10da4194a996b41d1249b09a",
      "2358ffb685ec497ba816785af1fd922d",
      "675c5f5950814eeb981894ad275de6bf"
     ]
    },
    "id": "a602b505-7a61-47ea-bb3e-dae8a6cdd425",
    "outputId": "17c07d76-eca0-4707-9722-55934164ac05"
   },
   "outputs": [],
   "source": [
    "# Custom function to run the app, handling event loop manually if needed\n",
    "def run_app():\n",
    "    config = uvicorn.Config(app, host=\"0.0.0.0\", port=ngrok_port)\n",
    "    server = uvicorn.Server(config)\n",
    "\n",
    "    # Start ngrok tunnel\n",
    "    public_url = ngrok.connect(ngrok_port)\n",
    "    print(f\" * ngrok tunnel \\\"{public_url}\\\" -> \\\"http://127.0.0.1:{ngrok_port}\\\"\")\n",
    "\n",
    "    try:\n",
    "        nest_asyncio.apply()  # Apply the nest_asyncio fix to allow nested loops\n",
    "    except ImportError:\n",
    "        pass\n",
    "\n",
    "    # Run the server\n",
    "    server.run()\n",
    "\n",
    "if __name__ == '__main__':\n",
    "    run_app()"
   ]
  },
  {
   "cell_type": "code",
   "execution_count": null,
   "id": "e60a2240-7bb1-421a-a7fe-7a536bd5458f",
   "metadata": {
    "id": "e60a2240-7bb1-421a-a7fe-7a536bd5458f"
   },
   "outputs": [],
   "source": []
  }
 ],
 "metadata": {
  "colab": {
   "provenance": []
  },
  "kernelspec": {
   "display_name": "Python 3 (ipykernel)",
   "language": "python",
   "name": "python3"
  },
  "language_info": {
   "codemirror_mode": {
    "name": "ipython",
    "version": 3
   },
   "file_extension": ".py",
   "mimetype": "text/x-python",
   "name": "python",
   "nbconvert_exporter": "python",
   "pygments_lexer": "ipython3",
   "version": "3.10.12"
  }
 },
 "nbformat": 4,
 "nbformat_minor": 5
}
